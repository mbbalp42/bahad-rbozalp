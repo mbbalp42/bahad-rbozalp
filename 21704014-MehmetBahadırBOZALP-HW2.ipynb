{
 "cells": [
  {
   "cell_type": "code",
   "execution_count": null,
   "metadata": {},
   "outputs": [
    {
     "name": "stdout",
     "output_type": "stream",
     "text": [
      "1 HİPOTENÜS HESAPLAMA, 2 GİRDİĞNİZ NUMARAYA KADAR BİRDEN BAŞLAYIP SAYDIRMA, 3 ALTI TANE NUMARANIN ARİTMETİK ORTALAMASI\n",
      "1, 2 veya 3 numaralı işlemlerden birini seçiniz: 1\n",
      "doksan dereceye komşu kenarlardan bir uzunluk:1.9\n",
      "doksan dereceye komşu kenarlardan diğer uzunluk:.25\n",
      "hipotenüs: 1.91637678967368\n",
      "1, 2 veya 3 numaralı işlemlerden birini seçiniz: 2\n",
      "bir sayı giriniz:10\n",
      "1\n",
      "2\n",
      "3\n",
      "4\n",
      "5\n",
      "6\n",
      "7\n",
      "8\n",
      "9\n",
      "10\n",
      "1, 2 veya 3 numaralı işlemlerden birini seçiniz: 3\n",
      "altı tane sayı girin\n",
      "birinci sayı:5.6\n",
      "ikinci sayı:6.2\n",
      "üçüncü sayı:5\n",
      "dördüncü sayı:5\n",
      "beşinci sayı:5\n",
      "altıncı sayı:5\n",
      "girmiş olduğunuz altı sayının aritmetik ortalaması: 5.3\n"
     ]
    }
   ],
   "source": [
    "y =\"1 HİPOTENÜS HESAPLAMA, 2 GİRDİĞNİZ NUMARAYA KADAR BİRDEN BAŞLAYIP SAYDIRMA, 3 ALTI TANE NUMARANIN ARİTMETİK ORTALAMASI\"\n",
    "print(y)\n",
    "\n",
    "tekrarlama = 1\n",
    "\n",
    "while tekrarlama == 1:\n",
    "    soru = input(\"1, 2 veya 3 numaralı işlemlerden birini seçiniz: \")\n",
    "\n",
    "    if soru == \"1\":\n",
    "        a = float(input(\"doksan dereceye komşu kenarlardan bir uzunluk:\"))\n",
    "        b = float(input(\"doksan dereceye komşu kenarlardan diğer uzunluk:\"))\n",
    "        hipotenüs=((a**2+b**2)**0.5)\n",
    "        print(\"hipotenüs:\",hipotenüs)\n",
    "    elif soru == \"2\":\n",
    "        s = float(input(\"bir sayı giriniz:\"))\n",
    "        j=1\n",
    "        while j<=s :\n",
    "            print(j)\n",
    "            j=j+1\n",
    "\n",
    "    elif soru == \"3\":\n",
    "        print(\"altı tane sayı girin\")\n",
    "        sayı1 = float(input(\"birinci sayı:\"))\n",
    "        sayı2 = float(input(\"ikinci sayı:\"))\n",
    "        sayı3 = float(input(\"üçüncü sayı:\"))\n",
    "        sayı4 = float(input(\"dördüncü sayı:\"))\n",
    "        sayı5 = float(input(\"beşinci sayı:\"))\n",
    "        sayı6 = float(input(\"altıncı sayı:\"))\n",
    "        aritmetikortalama = (sayı1+sayı2+sayı3+sayı4+sayı5+sayı6)/6\n",
    "        print(\"girmiş olduğunuz altı sayının aritmetik ortalaması:\",aritmetikortalama)\n",
    "\n",
    "\n",
    "    else:\n",
    "        print(\"YANLIŞ GİRİŞ YANLIŞ GİRİŞ YANLIŞ GİRİŞ.\")\n",
    "        print(\"TEKRARDAN SEÇİNİZ:\", y)"
   ]
  },
  {
   "cell_type": "code",
   "execution_count": null,
   "metadata": {},
   "outputs": [],
   "source": []
  }
 ],
 "metadata": {
  "kernelspec": {
   "display_name": "Python 3",
   "language": "python",
   "name": "python3"
  },
  "language_info": {
   "codemirror_mode": {
    "name": "ipython",
    "version": 3
   },
   "file_extension": ".py",
   "mimetype": "text/x-python",
   "name": "python",
   "nbconvert_exporter": "python",
   "pygments_lexer": "ipython3",
   "version": "3.6.5"
  }
 },
 "nbformat": 4,
 "nbformat_minor": 2
}
