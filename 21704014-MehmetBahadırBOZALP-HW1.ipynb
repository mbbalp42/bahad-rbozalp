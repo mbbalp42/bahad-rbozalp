{
 "cells": [
  {
   "cell_type": "code",
   "execution_count": 1,
   "metadata": {},
   "outputs": [
    {
     "name": "stdout",
     "output_type": "stream",
     "text": [
      "x karenin kat sayısını girin:2\n",
      "x in kat sayısını girin:5\n",
      "sabit sayıyı girin:2\n",
      "girdiğin sayılar: 2 5 2\n",
      "discriminant : 9\n",
      "kök1 : -0.5\n",
      "kök2 : -2.0\n"
     ]
    }
   ],
   "source": [
    "  import math \n",
    "number1 = int(input(\"x karenin kat sayısını girin:\"))\n",
    "    \n",
    "number2 = int(input(\"x in kat sayısını girin:\"))\n",
    "    \n",
    "number3 = int(input(\"sabit sayıyı girin:\"))\n",
    "\n",
    "print('girdiğin sayılar:', number1, number2, number3)\n",
    "\n",
    "result_of_discriminant=((number2**2)-(4*number1*number3))\n",
    "print('discriminant :',result_of_discriminant)\n",
    "\n",
    "result_of_root1=((((-1)*(number2)+math.sqrt(result_of_discriminant)))/(2*number1))\n",
    "print('kök1 :',result_of_root1)\n",
    "    \n",
    "result_of_root2=((((-1)*(number2)-math.sqrt(result_of_discriminant)))/(2*number1))\n",
    "print('kök2 :',result_of_root2)  "
   ]
  },
  {
   "cell_type": "code",
   "execution_count": null,
   "metadata": {},
   "outputs": [],
   "source": []
  }
 ],
 "metadata": {
  "kernelspec": {
   "display_name": "Python 3",
   "language": "python",
   "name": "python3"
  },
  "language_info": {
   "codemirror_mode": {
    "name": "ipython",
    "version": 3
   },
   "file_extension": ".py",
   "mimetype": "text/x-python",
   "name": "python",
   "nbconvert_exporter": "python",
   "pygments_lexer": "ipython3",
   "version": "3.6.5"
  }
 },
 "nbformat": 4,
 "nbformat_minor": 2
}
